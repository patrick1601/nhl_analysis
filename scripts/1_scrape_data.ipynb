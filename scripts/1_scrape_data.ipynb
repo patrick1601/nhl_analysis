{
 "cells": [
  {
   "cell_type": "markdown",
   "metadata": {},
   "source": [
    "# Scrape Data\n",
    "In this module we are going to scrape nhl.com for all of the stats we need to train our machine learning model. NHL.com actually provides an API writted in JSON which will make it very easy to scrape. There is a great guide here https://github.com/dword4/nhlapi on how to navigate through and use the nhl API.\n",
    "\n",
    "You can see what the API looks like for a game at this link https://statsapi.web.nhl.com/api/v1/game/2021020797/feed/live. Buried in all that text is all the game information and stats we will need for our model.\n",
    "\n",
    "Using a JSON viewer will also make analyzing the JSON code a lot easier. When writing this code I used this one: http://jsonviewer.stack.hu/.\n",
    "\n",
    "We are eventually going to build 3 dataframes in order to train our model:\n",
    "1. Team stats dataframe - Will contain team stats each row will represent 1 team that played in a game\n",
    "2. Goalie stats dataframe - Will contain goalie stats each row will represent 1 goalie that played in a game\n",
    "3. Training dataframe - Will contain game information + team stats + goalie stats and will be used to train our model. Each row will represent 1 game."
   ]
  },
  {
   "cell_type": "code",
   "execution_count": 29,
   "metadata": {},
   "outputs": [],
   "source": [
    "import datetime as dt\n",
    "from datetime import timedelta\n",
    "import json\n",
    "from typing import List, Dict\n",
    "from bs4 import BeautifulSoup\n",
    "import requests\n",
    "from urllib3.util.retry import Retry\n",
    "from requests.adapters import HTTPAdapter\n",
    "import pickle\n",
    "from typing import List\n",
    "import pandas as pd\n",
    "\n",
    "#show full columns on dataframes\n",
    "pd.set_option('display.expand_frame_repr', False)\n",
    "pd.set_option(\"display.max_rows\", 25)"
   ]
  },
  {
   "cell_type": "markdown",
   "metadata": {},
   "source": [
    "## Scraping Functions\n",
    "Our first step will be to write a few functions that will scrape the NHL.com API. \n",
    "\n",
    "Each NHL game has a unique game id used as an identifier. This function will take a season as an integer and return a list containing all game ids for that season."
   ]
  },
  {
   "cell_type": "code",
   "execution_count": 2,
   "metadata": {},
   "outputs": [],
   "source": [
    "# get game ids from nhl.com API\n",
    "def get_game_ids(season):\n",
    "    '''\n",
    "    Retrieves all of the game ids for the provided season\n",
    "    Arguments:\n",
    "        season (int): the season for which you want to retrieve game ids (ex: 20192020)\n",
    "    Returns:\n",
    "        List[int]: a list containing all regular season game ids for that season\n",
    "    '''\n",
    "\n",
    "    session = requests.Session()\n",
    "    retry = Retry(connect=3, backoff_factor=0.5)\n",
    "    adapter = HTTPAdapter(max_retries=retry)\n",
    "    session.mount('http://', adapter)\n",
    "    session.mount('https://', adapter)\n",
    "\n",
    "    season_str: str = str(season)\n",
    "    url: str = f\"https://statsapi.web.nhl.com/api/v1/schedule?season={season_str}&gameType=R\"\n",
    "    resp = session.get(url)\n",
    "    raw_schedule = json.loads(resp.text)\n",
    "    schedule = raw_schedule['dates']\n",
    "    # each entry in schedule is a day in the NHL. Each 'games' key contains games on that day\n",
    "    # Therefore we need a nested loop to retrieve all games\n",
    "\n",
    "    game_ids=[]\n",
    "\n",
    "    for day in schedule:\n",
    "        # Retrieve list that shows all games played on that day\n",
    "        games = day['games']\n",
    "        # Loop through games and retrieve ids\n",
    "        for game in games:\n",
    "            game_id = game['gamePk']\n",
    "            game_ids.append(game_id)\n",
    "    return game_ids"
   ]
  },
  {
   "cell_type": "markdown",
   "metadata": {},
   "source": [
    "This next function will scrape the following data for both the home and away team for the game id provided:\n",
    "- Date game was played on\n",
    "- Home team\n",
    "- Away team\n",
    "- Goals scored\n",
    "- PIM's\n",
    "- Shots\n",
    "- PP%\n",
    "- PPG\n",
    "- PP Opportunities\n",
    "- FO%\n",
    "- Blocked Shots\n",
    "- Takeaways\n",
    "- Giveaways\n",
    "- Hits\n",
    "- Starting Goalies\n",
    "- Outcome\n",
    "\n",
    "The function will return a list containing 2 dictionaries. The first dictionary containing all the info for the home team and the second dictionary containing all the information for the away team.\n"
   ]
  },
  {
   "cell_type": "code",
   "execution_count": 3,
   "metadata": {},
   "outputs": [],
   "source": [
    "def scrape_team_stats(game_id: int) -> List[Dict]:\n",
    "    \"\"\"\n",
    "        returns two entries in a List.\n",
    "        The first entry is stats for the home team and the second is stats for the away team.\n",
    "        Each entry represents 1 game played.\n",
    "        Refer to: https://github.com/dword4/nhlapi on how to use the NHL API\n",
    "        Arguments\n",
    "            game_id (int): game id we are retrieving data for\n",
    "        Returns\n",
    "            List[dict]: list containing an entry for the home team and away team playing in the\n",
    "                        same game\n",
    "    \"\"\"\n",
    "    session = requests.Session()\n",
    "    retry = Retry(connect=3, backoff_factor=0.5)\n",
    "    adapter = HTTPAdapter(max_retries=retry)\n",
    "    session.mount('http://', adapter)\n",
    "    session.mount('https://', adapter)\n",
    "\n",
    "    url = f'https://statsapi.web.nhl.com/api/v1/game/{str(game_id)}/feed/live'\n",
    "    resp = session.get(url)\n",
    "    json_data = json.loads(resp.text)\n",
    "\n",
    "    # RETRIEVE STATS REQUIRED\n",
    "\n",
    "    # retrieve date and convert to date time\n",
    "    game_date: str = json_data['gameData']['datetime']['dateTime']\n",
    "    game_date = dt.datetime.strptime(game_date, '%Y-%m-%dT%H:%M:%SZ')\n",
    "\n",
    "    # Retrieve team names\n",
    "    home_team: str = json_data[\"liveData\"]['boxscore']['teams']['home']['team']['abbreviation']\n",
    "    away_team: str = json_data[\"liveData\"]['boxscore']['teams']['away']['team']['abbreviation']\n",
    "\n",
    "    # collect list of teamSkaterStats we want to retrieve from json data\n",
    "    team_skater_stats_home = json_data[\"liveData\"]\\\n",
    "        [\"boxscore\"]['teams']['home']['teamStats']['teamSkaterStats']\n",
    "    team_skater_stats_away = json_data[\"liveData\"]\\\n",
    "        [\"boxscore\"]['teams']['away']['teamStats']['teamSkaterStats']\n",
    "\n",
    "    # Starting goalies\n",
    "    # spot checked a few APIs and it seems like the starting goalie will be listed last in the json\n",
    "    # file if he was pulled. The goalie that finishes the game will be listed first (0).\n",
    "    home_team_starting_goalie_id = json_data[\"liveData\"]\\\n",
    "        ['boxscore']['teams']['home']['goalies'][-1]\n",
    "    away_team_starting_goalie_id = json_data[\"liveData\"]\\\n",
    "        ['boxscore']['teams']['away']['goalies'][-1]\n",
    "    home_team_starting_goalie_name = json_data[\"liveData\"]\\\n",
    "        ['boxscore']['teams']['home']['players']\\\n",
    "            ['ID'+str(home_team_starting_goalie_id)]['person']['fullName']\n",
    "    away_team_starting_goalie_name = json_data[\"liveData\"]\\\n",
    "        ['boxscore']['teams']['away']['players']\\\n",
    "            ['ID'+str(away_team_starting_goalie_id)]['person']['fullName']\n",
    "\n",
    "    # retrieve outcome (same for both home team and away team)\n",
    "    if not json_data['liveData']['linescore']['hasShootout']:\n",
    "        if (json_data[\"liveData\"][\"boxscore\"]\\\n",
    "            ['teams']['home']['teamStats']['teamSkaterStats']['goals'] >\n",
    "            json_data[\"liveData\"][\"boxscore\"]\\\n",
    "                ['teams']['away']['teamStats']['teamSkaterStats']['goals']):\n",
    "            home_team_win = True\n",
    "        if (json_data[\"liveData\"][\"boxscore\"]\\\n",
    "            ['teams']['home']['teamStats']['teamSkaterStats']['goals'] <\n",
    "            json_data[\"liveData\"][\"boxscore\"]\\\n",
    "                ['teams']['away']['teamStats']['teamSkaterStats']['goals']):\n",
    "            home_team_win = False\n",
    "    if json_data['liveData']['linescore']['hasShootout']:\n",
    "        if (json_data['liveData']['linescore']['shootoutInfo']['home']['scores'] >\n",
    "            json_data['liveData']['linescore']['shootoutInfo']['away']['scores']):\n",
    "            home_team_win = True\n",
    "        if (json_data['liveData']['linescore']['shootoutInfo']['home']['scores'] <\n",
    "            json_data['liveData']['linescore']['shootoutInfo']['away']['scores']):\n",
    "            home_team_win = False\n",
    "\n",
    "    # create dictionaries for the home and away team\n",
    "    if game_id == 2020020215: # manually entering incorrect input data in NHL API for this game\n",
    "        home_team_stats = {'date':game_date, 'game_id':game_id,\n",
    "                           'team':home_team, 'is_home_team':True,\n",
    "                           'home_team_win':False,\n",
    "                           'goalie_id':home_team_starting_goalie_id,\n",
    "                           'goalie_name':home_team_starting_goalie_name}\n",
    "\n",
    "        home_team_stats.update(team_skater_stats_home)\n",
    "\n",
    "        away_team_stats = {'date':game_date, 'game_id':game_id,\n",
    "                           'team':away_team, 'is_home_team':False,\n",
    "                           'home_team_win':False,\n",
    "                           'goalie_id':away_team_starting_goalie_id,\n",
    "                           'goalie_name':away_team_starting_goalie_name}\n",
    "\n",
    "        away_team_stats.update(team_skater_stats_away)\n",
    "\n",
    "    else:\n",
    "        home_team_stats = {'date':game_date, 'game_id':game_id,\n",
    "                           'team':home_team, 'is_home_team':True,\n",
    "                           'home_team_win':home_team_win,\n",
    "                           'goalie_id':home_team_starting_goalie_id,\n",
    "                           'goalie_name':home_team_starting_goalie_name}\n",
    "\n",
    "        home_team_stats.update(team_skater_stats_home)\n",
    "\n",
    "        away_team_stats = {'date':game_date, 'game_id':game_id,\n",
    "                           'team':away_team, 'is_home_team':False,\n",
    "                           'home_team_win':home_team_win,\n",
    "                           'goalie_id':away_team_starting_goalie_id,\n",
    "                           'goalie_name':away_team_starting_goalie_name}\n",
    "\n",
    "        away_team_stats.update(team_skater_stats_away)\n",
    "\n",
    "    teams = [home_team_stats, away_team_stats]\n",
    "\n",
    "    return teams"
   ]
  },
  {
   "cell_type": "markdown",
   "metadata": {},
   "source": [
    "Lets run this function for one game so we can see the output"
   ]
  },
  {
   "cell_type": "code",
   "execution_count": 4,
   "metadata": {},
   "outputs": [
    {
     "name": "stdout",
     "output_type": "stream",
     "text": [
      "[{'date': datetime.datetime(2022, 2, 2, 0, 0), 'game_id': 2021020797, 'team': 'TBL', 'is_home_team': True, 'home_team_win': True, 'goalie_id': 8476883, 'goalie_name': 'Andrei Vasilevskiy', 'goals': 3, 'pim': 10, 'shots': 32, 'powerPlayPercentage': '25.0', 'powerPlayGoals': 1.0, 'powerPlayOpportunities': 4.0, 'faceOffWinPercentage': '46.7', 'blocked': 10, 'takeaways': 4, 'giveaways': 4, 'hits': 37}, {'date': datetime.datetime(2022, 2, 2, 0, 0), 'game_id': 2021020797, 'team': 'SJS', 'is_home_team': False, 'home_team_win': True, 'goalie_id': 8473503, 'goalie_name': 'James Reimer', 'goals': 2, 'pim': 12, 'shots': 21, 'powerPlayPercentage': '33.3', 'powerPlayGoals': 1.0, 'powerPlayOpportunities': 3.0, 'faceOffWinPercentage': '53.3', 'blocked': 11, 'takeaways': 6, 'giveaways': 1, 'hits': 43}]\n"
     ]
    }
   ],
   "source": [
    "data = scrape_team_stats(2021020797)\n",
    "print(data)"
   ]
  },
  {
   "cell_type": "markdown",
   "metadata": {},
   "source": [
    "Next we will scrape goalie stats. This function will take a game id and return a list containing a dictionary for each goalie that played in that game."
   ]
  },
  {
   "cell_type": "code",
   "execution_count": 5,
   "metadata": {},
   "outputs": [],
   "source": [
    "def scrape_goalie_stats(game_id: int) -> List[Dict]:\n",
    "    \"\"\"\n",
    "        retrieves a list of dictionaries containing goalie stats for all\n",
    "        goalies that played in the game specified by game_id.\n",
    "        Each dictionary represents one goalie.\n",
    "        Refer to: https://github.com/dword4/nhlapi on how to use the NHL API\n",
    "        Arguments\n",
    "            game_id (int): game id we are retrieving data for\n",
    "        Returns\n",
    "            List[Dict]: list containing an entry for the home team and away team playing in the\n",
    "                        same game.\n",
    "        \"\"\"\n",
    "\n",
    "    # backoff strategy to avoid max retry errors\n",
    "    session = requests.Session()\n",
    "    retry = Retry(connect=3, backoff_factor=0.5)\n",
    "    adapter = HTTPAdapter(max_retries=retry)\n",
    "    session.mount('http://', adapter)\n",
    "    session.mount('https://', adapter)\n",
    "\n",
    "    url = f'https://statsapi.web.nhl.com/api/v1/game/{str(game_id)}/feed/live'\n",
    "    resp = session.get(url)\n",
    "    json_data = json.loads(resp.text)\n",
    "\n",
    "    # RETRIEVE STATS REQUIRED\n",
    "\n",
    "    # get date\n",
    "    game_date = json_data['gameData']['datetime']['dateTime']\n",
    "    game_date = dt.datetime.strptime(game_date, '%Y-%m-%dT%H:%M:%SZ')\n",
    "\n",
    "    # Get goalie team\n",
    "    home_goalie_team = json_data['gameData']['teams']['home']['abbreviation']\n",
    "    away_goalie_team = json_data['gameData']['teams']['away']['abbreviation']\n",
    "\n",
    "    # Get goalie IDs\n",
    "    home_goalie_id = json_data['liveData']['boxscore']['teams']['home']['goalies']\n",
    "    away_goalie_id = json_data['liveData']['boxscore']['teams']['away']['goalies']\n",
    "\n",
    "    # Get goalie names\n",
    "    home_goalie_names = []\n",
    "    away_goalie_names = []\n",
    "\n",
    "    # for loop to iterate through list of home goalies that played this game\n",
    "    for i in home_goalie_id:\n",
    "        j = json_data['liveData']['boxscore']['teams']['home']['players']['ID' + str(i)]\\\n",
    "            ['person']['fullName']\n",
    "        home_goalie_names.append(j)\n",
    "    # for loop to iterate through list of away goalies that played this game\n",
    "    for i in away_goalie_id:\n",
    "        j = json_data['liveData']['boxscore']['teams']['away']['players']['ID' + str(i)]\\\n",
    "            ['person']['fullName']\n",
    "        away_goalie_names.append(j)\n",
    "\n",
    "    # Get goalie stats\n",
    "    home_goalie_stats = []\n",
    "    away_goalie_stats = []\n",
    "    # for loop to iterate through list of home goalies that played this game\n",
    "    for i in home_goalie_id:\n",
    "        j = json_data['liveData']['boxscore']['teams']['home']['players']['ID' + str(i)]\\\n",
    "            ['stats']['goalieStats']\n",
    "        home_goalie_stats.append(j)\n",
    "    # for loop to iterate through list of home goalies that played this game\n",
    "    for i in away_goalie_id:\n",
    "        j = json_data['liveData']['boxscore']['teams']['away']['players']['ID' + str(i)]\\\n",
    "            ['stats']['goalieStats']\n",
    "        away_goalie_stats.append(j)\n",
    "\n",
    "    # make home goalie list. for loop needed as there could be more than 2 goalies playing in 1 game\n",
    "    home_goalies = []\n",
    "    goalie_counter = list(range(len(home_goalie_stats))) # counter for number of goalies that played\n",
    "\n",
    "    for goalie_count in goalie_counter:\n",
    "        # create dictonary for goalie\n",
    "        home_goalie = {'date':game_date, 'game_id':game_id, 'team':home_goalie_team,\n",
    "                       'goalie_name':home_goalie_names[goalie_count],\\\n",
    "                           'goalie_id':home_goalie_id[goalie_count],\n",
    "                       'is_home_team':True}\n",
    "        home_goalie.update(home_goalie_stats[goalie_count])\n",
    "\n",
    "        home_goalies.append(home_goalie)\n",
    "\n",
    "    # make away goalie list. for loop needed as there could be more than 2 goalies playing in 1 game\n",
    "    away_goalies = []\n",
    "    goalie_counter = list(range(len(away_goalie_stats))) # counter for number of goalies that played\n",
    "\n",
    "    for goalie_count in goalie_counter:\n",
    "        # create dictonary for goalie\n",
    "        away_goalie = {'date':game_date, 'game_id':game_id, 'team':away_goalie_team,\n",
    "                       'goalie_name':away_goalie_names[goalie_count],\\\n",
    "                           'goalie_id':away_goalie_id[goalie_count],\n",
    "                       'is_home_team':False}\n",
    "        away_goalie.update(away_goalie_stats[goalie_count])\n",
    "\n",
    "        away_goalies.append(away_goalie)\n",
    "\n",
    "\n",
    "    # Merge the two lists\n",
    "    goalie_stats = away_goalies + home_goalies\n",
    "\n",
    "    return goalie_stats"
   ]
  },
  {
   "cell_type": "markdown",
   "metadata": {},
   "source": [
    "Lets try this function for one game"
   ]
  },
  {
   "cell_type": "code",
   "execution_count": 6,
   "metadata": {},
   "outputs": [
    {
     "name": "stdout",
     "output_type": "stream",
     "text": [
      "[{'date': datetime.datetime(2022, 2, 2, 0, 0), 'game_id': 2021020797, 'team': 'SJS', 'goalie_name': 'James Reimer', 'goalie_id': 8473503, 'is_home_team': False, 'timeOnIce': '62:45', 'assists': 0, 'goals': 0, 'pim': 0, 'shots': 32, 'saves': 29, 'powerPlaySaves': 3, 'shortHandedSaves': 0, 'evenSaves': 26, 'shortHandedShotsAgainst': 0, 'evenShotsAgainst': 28, 'powerPlayShotsAgainst': 4, 'decision': 'L', 'savePercentage': 90.625, 'evenStrengthSavePercentage': 92.85714285714286, 'powerPlaySavePercentage': 75.0}, {'date': datetime.datetime(2022, 2, 2, 0, 0), 'game_id': 2021020797, 'team': 'TBL', 'goalie_name': 'Andrei Vasilevskiy', 'goalie_id': 8476883, 'is_home_team': True, 'timeOnIce': '62:45', 'assists': 0, 'goals': 0, 'pim': 0, 'shots': 21, 'saves': 19, 'powerPlaySaves': 4, 'shortHandedSaves': 1, 'evenSaves': 14, 'shortHandedShotsAgainst': 1, 'evenShotsAgainst': 15, 'powerPlayShotsAgainst': 5, 'decision': 'W', 'savePercentage': 90.47619047619048, 'evenStrengthSavePercentage': 93.33333333333333, 'powerPlaySavePercentage': 80.0, 'shortHandedSavePercentage': 100.0}]\n"
     ]
    }
   ],
   "source": [
    "data = scrape_goalie_stats(2021020797)\n",
    "print(data)"
   ]
  },
  {
   "cell_type": "markdown",
   "metadata": {},
   "source": [
    "If a goalie gets pulled we should make sure that all goalies are scrapped for that game. Lets try a game where there was a pulled goalie."
   ]
  },
  {
   "cell_type": "code",
   "execution_count": 7,
   "metadata": {},
   "outputs": [
    {
     "name": "stdout",
     "output_type": "stream",
     "text": [
      "[{'date': datetime.datetime(2022, 2, 2, 0, 0), 'game_id': 2021020798, 'team': 'TOR', 'goalie_name': 'Jack Campbell', 'goalie_id': 8475789, 'is_home_team': False, 'timeOnIce': '60:00', 'assists': 0, 'goals': 0, 'pim': 0, 'shots': 32, 'saves': 31, 'powerPlaySaves': 4, 'shortHandedSaves': 1, 'evenSaves': 26, 'shortHandedShotsAgainst': 1, 'evenShotsAgainst': 27, 'powerPlayShotsAgainst': 4, 'decision': 'W', 'savePercentage': 96.875, 'shortHandedSavePercentage': 100.0, 'evenStrengthSavePercentage': 96.29629629629629, 'powerPlaySavePercentage': 100.0}, {'date': datetime.datetime(2022, 2, 2, 0, 0), 'game_id': 2021020798, 'team': 'NJD', 'goalie_name': 'Jon Gillies', 'goalie_id': 8476903, 'is_home_team': True, 'timeOnIce': '40:00', 'assists': 0, 'goals': 0, 'pim': 0, 'shots': 28, 'saves': 22, 'powerPlaySaves': 2, 'shortHandedSaves': 1, 'evenSaves': 19, 'shortHandedShotsAgainst': 1, 'evenShotsAgainst': 25, 'powerPlayShotsAgainst': 2, 'decision': 'L', 'savePercentage': 78.57142857142857, 'shortHandedSavePercentage': 100.0, 'evenStrengthSavePercentage': 76.0, 'powerPlaySavePercentage': 100.0}, {'date': datetime.datetime(2022, 2, 2, 0, 0), 'game_id': 2021020798, 'team': 'NJD', 'goalie_name': 'Akira Schmid', 'goalie_id': 8481033, 'is_home_team': True, 'timeOnIce': '20:00', 'assists': 0, 'goals': 0, 'pim': 0, 'shots': 8, 'saves': 7, 'powerPlaySaves': 0, 'shortHandedSaves': 0, 'evenSaves': 7, 'shortHandedShotsAgainst': 0, 'evenShotsAgainst': 8, 'powerPlayShotsAgainst': 0, 'decision': '', 'savePercentage': 87.5, 'evenStrengthSavePercentage': 87.5}]\n"
     ]
    }
   ],
   "source": [
    "data = scrape_goalie_stats(2021020798)\n",
    "print(data)"
   ]
  },
  {
   "cell_type": "markdown",
   "metadata": {},
   "source": [
    "Perfect we can see in this game there are 3 dictionaries in the list representing all 3 goalies that played in the game.\n",
    "\n",
    "This next function will pull game information. It will take a game id and return a dictionary contianing game information for that game."
   ]
  },
  {
   "cell_type": "code",
   "execution_count": 8,
   "metadata": {},
   "outputs": [],
   "source": [
    "def scrape_game_info(game_id:int) -> Dict:\n",
    "    \"\"\"\n",
    "        returns an dictionary with game information for the game_id provided\n",
    "        Refer to: https://github.com/dword4/nhlapi on how to use the NHL API\n",
    "        Arguments\n",
    "            game_id (int): game id we are retrieving data for\n",
    "        Returns\n",
    "            Dict: Dictionary with information for the game_id provided\n",
    "        \"\"\"\n",
    "    session = requests.Session()\n",
    "    retry = Retry(connect=3, backoff_factor=0.5)\n",
    "    adapter = HTTPAdapter(max_retries=retry)\n",
    "    session.mount('http://', adapter)\n",
    "    session.mount('https://', adapter)\n",
    "\n",
    "    url = f'https://statsapi.web.nhl.com/api/v1/game/{str(game_id)}/feed/live'\n",
    "    resp = session.get(url)\n",
    "    json_data = json.loads(resp.text)\n",
    "\n",
    "    # RETRIEVE INFO REQUIRED\n",
    "\n",
    "    # retrieve date and convert to date time\n",
    "    game_date: str = json_data['gameData']['datetime']['dateTime']\n",
    "    game_date = dt.datetime.strptime(game_date, '%Y-%m-%dT%H:%M:%SZ')\n",
    "\n",
    "    # Retrieve team names\n",
    "    home_team: str = json_data[\"liveData\"]['boxscore']['teams']['home']['team']['abbreviation']\n",
    "    away_team: str = json_data[\"liveData\"]['boxscore']['teams']['away']['team']['abbreviation']\n",
    "\n",
    "    # retrieve outcome 'hasShootout' is a boolean\n",
    "    if not json_data['liveData']['linescore']['hasShootout']:\n",
    "        if json_data[\"liveData\"][\"boxscore\"]['teams']['home']['teamStats']['teamSkaterStats']\\\n",
    "            ['goals'] > json_data[\"liveData\"][\"boxscore\"]['teams']['away']['teamStats']\\\n",
    "                ['teamSkaterStats']['goals']:\n",
    "            home_team_win = True\n",
    "        if json_data[\"liveData\"][\"boxscore\"]['teams']['home']['teamStats']['teamSkaterStats']\\\n",
    "            ['goals'] < json_data[\"liveData\"][\"boxscore\"]['teams']['away']['teamStats']\\\n",
    "                ['teamSkaterStats']['goals']:\n",
    "            home_team_win = False\n",
    "    if json_data['liveData']['linescore']['hasShootout']:\n",
    "        if json_data['liveData']['linescore']['shootoutInfo']['home']['scores'] >\\\n",
    "            json_data['liveData']['linescore']['shootoutInfo']['away']['scores']:\n",
    "            home_team_win = True\n",
    "        if json_data['liveData']['linescore']['shootoutInfo']['home']['scores'] <\\\n",
    "            json_data['liveData']['linescore']['shootoutInfo']['away']['scores']:\n",
    "            home_team_win = False\n",
    "\n",
    "    # Starting goalies\n",
    "    # spot checked a few APIs and it seems like the starting goalie will be listed last in the json\n",
    "    # file if he was pulled. The goalie that finishes the game will be listed first (0).\n",
    "    home_team_starting_goalie_id = json_data[\"liveData\"]['boxscore']['teams']['home']['goalies'][-1]\n",
    "    away_team_starting_goalie_id = json_data[\"liveData\"]['boxscore']['teams']['away']['goalies'][-1]\n",
    "    home_team_starting_goalie_name = \\\n",
    "    json_data[\"liveData\"]['boxscore']['teams']['home']['players']['ID' +\\\n",
    "        str(home_team_starting_goalie_id)]['person']['fullName']\n",
    "    away_team_starting_goalie_name = \\\n",
    "    json_data[\"liveData\"]['boxscore']['teams']['away']['players']['ID' +\\\n",
    "        str(away_team_starting_goalie_id)]['person']['fullName']\n",
    "    if game_id == 2020020215: # manually entering incorrect input data in NHL API for this game\n",
    "        game_info = {'date':game_date, 'game_id':game_id, 'home_team':home_team,\\\n",
    "            'away_team':away_team, 'home_team_win':False,\\\n",
    "                'home_goalie_id':home_team_starting_goalie_id,\\\n",
    "                    'away_goalie_id':away_team_starting_goalie_id,\\\n",
    "                        'home_goalie_name':home_team_starting_goalie_name,\\\n",
    "                            'away_goalie_name':away_team_starting_goalie_name}\n",
    "    else:\n",
    "        game_info = {'date':game_date, 'game_id':game_id, 'home_team':home_team,\\\n",
    "            'away_team':away_team, 'home_team_win':home_team_win,\\\n",
    "                'home_goalie_id':home_team_starting_goalie_id,\\\n",
    "                    'away_goalie_id':away_team_starting_goalie_id,\\\n",
    "                        'home_goalie_name':home_team_starting_goalie_name,\\\n",
    "                            'away_goalie_name':away_team_starting_goalie_name}\n",
    "    return game_info"
   ]
  },
  {
   "cell_type": "markdown",
   "metadata": {},
   "source": [
    "Lets run an example game id"
   ]
  },
  {
   "cell_type": "code",
   "execution_count": 9,
   "metadata": {},
   "outputs": [
    {
     "name": "stdout",
     "output_type": "stream",
     "text": [
      "{'date': datetime.datetime(2022, 2, 2, 0, 0), 'game_id': 2021020798, 'home_team': 'NJD', 'away_team': 'TOR', 'home_team_win': False, 'home_goalie_id': 8481033, 'away_goalie_id': 8475789, 'home_goalie_name': 'Akira Schmid', 'away_goalie_name': 'Jack Campbell'}\n"
     ]
    }
   ],
   "source": [
    "print(scrape_game_info(2021020798))"
   ]
  },
  {
   "cell_type": "markdown",
   "metadata": {},
   "source": [
    "We have now written our main scrapping functions. We'll just need a few helper functions that will help us along the way. This first function will take a game ID and retrieve a team playing in that game depending on the boolean supplied as the second argument."
   ]
  },
  {
   "cell_type": "code",
   "execution_count": 10,
   "metadata": {},
   "outputs": [],
   "source": [
    "def retrieve_team(game_id: int, home: bool) -> str:\n",
    "    \"\"\"\n",
    "    retrieves the team abbreviation playing in an NHL game\n",
    "    Arguments\n",
    "        game_id (int): game id we are retrieving data for\n",
    "        home (bool): if True retrieves the home team, False retrieves away\n",
    "    Returns\n",
    "        team (str): team abbreviation\n",
    "    \"\"\"\n",
    "\n",
    "    url = f'https://statsapi.web.nhl.com/api/v1/game/{str(game_id)}/feed/live'\n",
    "    resp = requests.get(url)\n",
    "    json_data = json.loads(resp.text)\n",
    "\n",
    "    if home:\n",
    "        team = json_data['gameData']['teams']['home']['abbreviation']\n",
    "    else:\n",
    "        team = json_data['gameData']['teams']['away']['abbreviation']\n",
    "\n",
    "    return team"
   ]
  },
  {
   "cell_type": "code",
   "execution_count": 12,
   "metadata": {},
   "outputs": [
    {
     "data": {
      "text/plain": [
       "'NJD'"
      ]
     },
     "execution_count": 12,
     "metadata": {},
     "output_type": "execute_result"
    }
   ],
   "source": [
    "retrieve_team(2021020798, True)"
   ]
  },
  {
   "cell_type": "code",
   "execution_count": 13,
   "metadata": {},
   "outputs": [
    {
     "data": {
      "text/plain": [
       "'TOR'"
      ]
     },
     "execution_count": 13,
     "metadata": {},
     "output_type": "execute_result"
    }
   ],
   "source": [
    "retrieve_team(2021020798, False)"
   ]
  },
  {
   "cell_type": "markdown",
   "metadata": {},
   "source": [
    "The next function will take a game id and retrieve the date that game was played on."
   ]
  },
  {
   "cell_type": "code",
   "execution_count": 23,
   "metadata": {},
   "outputs": [],
   "source": [
    "def retrieve_date(game_id: int) -> dt.datetime:\n",
    "    \"\"\"\n",
    "    retrieves the date an NHL game was played\n",
    "    ...\n",
    "    Parameters\n",
    "    ----------\n",
    "    game_id: int\n",
    "        game id we are retrieving data for\n",
    "    Returns\n",
    "    -------\n",
    "    date: dt.datetime\n",
    "        date that NHL game was played\n",
    "    \"\"\"\n",
    "    url = f'https://statsapi.web.nhl.com/api/v1/game/{str(game_id)}/feed/live'\n",
    "    resp = requests.get(url)\n",
    "    json_data = json.loads(resp.text)\n",
    "\n",
    "    date = json_data['gameData']['datetime']['dateTime']\n",
    "    date = dt.datetime.strptime(date, '%Y-%m-%dT%H:%M:%SZ')\n",
    "    # The NHL api applies an offset to the date which messes with the time we need to \n",
    "    # subtract this offset from the date\n",
    "\n",
    "    offset = int(json_data['gameData']['teams']['home']['venue']['timeZone']['offset'])\n",
    "\n",
    "    date = date + timedelta(hours=offset)\n",
    "\n",
    "    return date"
   ]
  },
  {
   "cell_type": "code",
   "execution_count": 25,
   "metadata": {},
   "outputs": [
    {
     "data": {
      "text/plain": [
       "datetime.datetime(2022, 2, 1, 19, 30)"
      ]
     },
     "execution_count": 25,
     "metadata": {},
     "output_type": "execute_result"
    }
   ],
   "source": [
    "retrieve_date(2021020804)"
   ]
  },
  {
   "cell_type": "markdown",
   "metadata": {},
   "source": [
    "Starting goalies are very important in the NHL and in order to make accurate predictions we will need to predict the starting goalies for each game. The following function will go to dailyfaceoff.com and scrape the predicted starting goalies for a game."
   ]
  },
  {
   "cell_type": "code",
   "execution_count": 26,
   "metadata": {},
   "outputs": [],
   "source": [
    "def get_starting_goalies(home_abv: str, away_abv: str, date: str) -> str:\n",
    "    \"\"\"\n",
    "    scrapes starting goaltenders from dailyfaceoff.com for the specified date and teams\n",
    "    ...\n",
    "    Parameters\n",
    "    ----------\n",
    "    home_abv: str\n",
    "        abbreviation for home team\n",
    "    away_abv: str\n",
    "        abbreviation for away team\n",
    "    date: str\n",
    "        string for which we want to retrieve starting goalies (ex. '01-13-2021')\n",
    "    Returns\n",
    "    -------\n",
    "    home_goalie: str\n",
    "        home goalie name\n",
    "    away_goalie: str\n",
    "        away goalie name\n",
    "    \"\"\"\n",
    "\n",
    "    # First define a dictionary to translate team abbreviations\n",
    "    # in our df to the team names used on daily faceoff\n",
    "    team_translations = {'MIN':'Minnesota Wild','TOR':'Toronto Maple Leafs',\n",
    "                         'PIT':'Pittsburgh Penguins', 'COL':'Colorado Avalanche',\n",
    "                         'EDM':'Edmonton Oilers', 'CAR':'Carolina Hurricanes',\n",
    "                         'CBJ':'Columbus Blue Jackets', 'NJD':'New Jersey Devils',\n",
    "                         'DET':'Detroit Red Wings', 'OTT':'Ottawa Senators',\n",
    "                         'BOS':'Boston Bruins', 'SJS':'San Jose Sharks',\n",
    "                         'BUF':'Buffalo Sabres','NYI':'New York Islanders',\n",
    "                         'WSH':'Washington Capitals','TBL':'Tampa Bay Lightning',\n",
    "                         'STL':'St Louis Blues', 'NSH':'Nashville Predators',\n",
    "                         'CHI':'Chicago Blackhawks', 'VAN':'Vancouver Canucks',\n",
    "                         'CGY':'Calgary Flames', 'PHI':'Philadelphia Flyers',\n",
    "                         'LAK':'Los Angeles Kings', 'MTL':'Montreal Canadiens',\n",
    "                         'ANA':'Anaheim Ducks', 'DAL':'Dallas Stars',\n",
    "                         'NYR':'New York Rangers', 'FLA':'Florida Panthers',\n",
    "                         'WPG':'Winnipeg Jets', 'ARI':'Arizona Coyotes',\n",
    "                         'VGK':'Vegas Golden Knights'}\n",
    "\n",
    "    home_team = team_translations[home_abv]\n",
    "    away_team = team_translations[away_abv]\n",
    "\n",
    "    url = f'https://www.dailyfaceoff.com/starting-goalies/{date}'\n",
    "\n",
    "    # Need headers as daily faceoff will block the get request without one\n",
    "    headers = {'User-Agent':'Mozilla/5.0 (Macintosh; Intel Mac OS X 10_15_6)\\\n",
    "        AppleWebKit/537.36 (KHTML, like Gecko) Chrome/86.0.4240.193 Safari/537.36'}\n",
    "    result = requests.get(url, headers=headers)\n",
    "\n",
    "    # Parse the data\n",
    "    src = result.content\n",
    "    soup = BeautifulSoup(src, 'lxml')\n",
    "\n",
    "    goalie_boxes = soup.find_all('div', {'class':'starting-goalies-card stat-card'})\n",
    "\n",
    "    # find the goalie box that contains the games we are looking for\n",
    "    for count, box in enumerate(goalie_boxes):\n",
    "        if home_team and away_team in box.text:\n",
    "            goalie_box = goalie_boxes[count]\n",
    "        else:\n",
    "            continue\n",
    "    # retrieve the h4 headings which contain the starting goalies\n",
    "\n",
    "    h4_headings = goalie_box.find_all('h4')\n",
    "\n",
    "    # Away goalie is at element 1 and home goalie is at element 2\n",
    "    away_goalie = h4_headings[1].text\n",
    "    home_goalie = h4_headings[2].text\n",
    "\n",
    "    return home_goalie, away_goalie"
   ]
  },
  {
   "cell_type": "markdown",
   "metadata": {},
   "source": [
    "Each player in the nhl has a unique numeric ID. Once we have the starting goalie names from daily faceoff we need to convert the name to the numeric ID used by the nhl.com website to identify the player. The following function will accomplish this."
   ]
  },
  {
   "cell_type": "code",
   "execution_count": 27,
   "metadata": {},
   "outputs": [],
   "source": [
    "def convert_player_to_id(team_name: str, player_name: str):\n",
    "    \"\"\"\n",
    "    converts a player name to id\n",
    "    ...\n",
    "    Parameters\n",
    "    ----------\n",
    "    team_name: str\n",
    "        abbreviation for the players team\n",
    "    player_name: str\n",
    "        player name string. first and last name (ex. 'Olli Jokinen')\n",
    "    Returns\n",
    "    -------\n",
    "    player_id: int\n",
    "        player id\n",
    "    \"\"\"\n",
    "    url = 'https://statsapi.web.nhl.com/api/v1/teams'\n",
    "    resp = requests.get(url)\n",
    "    json_data = json.loads(resp.text)\n",
    "\n",
    "    for team in json_data['teams']:\n",
    "        if team['abbreviation'] == team_name:\n",
    "            team_id = team['id']\n",
    "        else:\n",
    "            continue\n",
    "    # Use the team id to go to team page\n",
    "    url = f'https://statsapi.web.nhl.com/api/v1/teams/{team_id}?expand=team.roster'\n",
    "    resp = requests.get(url)\n",
    "    json_data = json.loads(resp.text)\n",
    "\n",
    "    team_roster = json_data['teams'][0]['roster']['roster']\n",
    "\n",
    "    for player_info in team_roster:\n",
    "        if player_info['person']['fullName'] == player_name:\n",
    "            return player_info['person']['id']\n",
    "        else:\n",
    "            continue"
   ]
  },
  {
   "cell_type": "markdown",
   "metadata": {},
   "source": [
    "## Time to Scrape\n",
    "Now that we have all our scraping functions it's time to scrape the date we need. We are going to scrape all games between 2012 and 2020. First we will get a list of game ids for all of these games. Since we don't want to be constantly scraping data we will store this data in a pickle file in our data folder so we always have it."
   ]
  },
  {
   "cell_type": "code",
   "execution_count": 33,
   "metadata": {},
   "outputs": [],
   "source": [
    "def pull_game_ids(first_year: int=2012, last_year: int=2020) -> List[int]:\n",
    "    \"\"\"\n",
    "    pulls all nhl game ids between the specified dates\n",
    "    ...\n",
    "    Parameters\n",
    "    ----------\n",
    "    first_year: int\n",
    "        first year to retrieve game ids\n",
    "    last_year: int\n",
    "        last year to retrieve game ids\n",
    "    Returns\n",
    "    -------\n",
    "    game_ids: str\n",
    "    \"\"\"\n",
    "    #create a list of years for which we want data\n",
    "    years = list(range(first_year, last_year))\n",
    "\n",
    "    #create year for the get_game_ids() function argument in the format 20192020\n",
    "    game_ids_url_years = []\n",
    "\n",
    "    for i in years:\n",
    "        j = str(i) + str(i+1)\n",
    "        game_ids_url_years.append(j)\n",
    "\n",
    "    #run for loop to retrieve game IDs for all seasons required\n",
    "    ids = []\n",
    "    for i in game_ids_url_years:\n",
    "\n",
    "        if len(ids) % 500 == 0:  # Progress bar\n",
    "            print(str(len(ids) / len(game_ids_url_years) * 100) +\n",
    "                  ' percent done retrieving game ids.')\n",
    "\n",
    "        try:\n",
    "            ids = ids + get_game_ids(i)\n",
    "\n",
    "        except KeyError:\n",
    "            print(str('*************Not able to retrieve: ' +\n",
    "                      str(i) +\n",
    "                      ' games due to KeyError************'))\n",
    "            continue\n",
    "\n",
    "    return ids"
   ]
  },
  {
   "cell_type": "code",
   "execution_count": 36,
   "metadata": {},
   "outputs": [
    {
     "name": "stdout",
     "output_type": "stream",
     "text": [
      "0.0 percent done retrieving game ids.\n",
      "[2012020001, 2012020002, 2012020003, 2012020004, 2012020005, 2012020006, 2012020007, 2012020008, 2012020009, 2012020010]\n",
      "[2020020688, 2020020790, 2020020803, 2020020647, 2020020704, 2020020741, 2020020673, 2020020567, 2020020864, 2020020634]\n",
      "10144 Game Ids were retrieved\n"
     ]
    }
   ],
   "source": [
    "#%% scrape game ids\n",
    "game_ids = pull_game_ids(first_year=2012, last_year=2021)\n",
    "with open('/Users/patrickpetanca/projects/nhl_analysis/data/game_ids.pkl', 'wb') as f:\n",
    "    pickle.dump(game_ids, f)\n",
    "\n",
    "print(game_ids[0:10])\n",
    "print(game_ids[-10:])\n",
    "print(str(len(game_ids)) + ' Game Ids were retrieved')"
   ]
  },
  {
   "cell_type": "markdown",
   "metadata": {},
   "source": [
    "Analyzing the first and last 10 elements of the list and everything looks good. The first 4 digits of the gameid tell you the year, the 02 after means it was a regular season game and the last digits tell you the game number of the season it was.\n",
    "\n",
    "10144 ids were retrieved and with some rough math that is about what we would expect for 9 years of hockey.\n",
    "\n",
    "Now lets pull our team stats for every game in our game_ids list"
   ]
  }
 ],
 "metadata": {
  "interpreter": {
   "hash": "702c16d30426216c846babaa6d6b366fbd94b1312ec71aa5e7fdeb6b891ffae1"
  },
  "kernelspec": {
   "display_name": "Python 3.8.12 ('nhl_analysis')",
   "language": "python",
   "name": "python3"
  },
  "language_info": {
   "codemirror_mode": {
    "name": "ipython",
    "version": 3
   },
   "file_extension": ".py",
   "mimetype": "text/x-python",
   "name": "python",
   "nbconvert_exporter": "python",
   "pygments_lexer": "ipython3",
   "version": "3.8.12"
  },
  "orig_nbformat": 4
 },
 "nbformat": 4,
 "nbformat_minor": 2
}
