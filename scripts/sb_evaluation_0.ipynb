{
 "cells": [
  {
   "cell_type": "markdown",
   "metadata": {},
   "source": [
    "# Sportsbook Evaluation\n",
    "This notebook will pull historical line data and game outcomes from covers.com and create a calibration curve which we can use to evaluate how effective sportsbooks are at setting betting lines for nhl games. We will then use this data to determine the accuracy of our own model that we create.\n",
    "\n",
    "This notebook will accomplish the following:\n",
    "1. Get a list of dates that NHL games were played in the 2018/2019 season\n",
    "2. For every game in the 2018/2019 season we will pull the betting lines and result of the game. We will use this season as it was the last full season played that wasn't shortened due to COVID.\n",
    "3. Determine how accurate sportsbooks were at predicting the winner of games over the whole season"
   ]
  },
  {
   "cell_type": "code",
   "execution_count": 4,
   "metadata": {},
   "outputs": [],
   "source": [
    "from bs4 import BeautifulSoup\n",
    "import datetime as dt\n",
    "import matplotlib.pyplot as plt\n",
    "import os\n",
    "import pickle\n",
    "from sklearn.calibration import calibration_curve\n",
    "from sklearn.metrics import accuracy_score, brier_score_loss\n",
    "import requests\n",
    "import re\n",
    "import sys\n",
    "%matplotlib inline\n"
   ]
  },
  {
   "cell_type": "markdown",
   "metadata": {},
   "source": [
    "## Remove Duplicates\n",
    "This function will come in handy later. All it does is take a list and removes and duplicate values from that list. Example [cat,dog,duck,dog] will return [cat,dog,duck]."
   ]
  },
  {
   "cell_type": "code",
   "execution_count": 3,
   "metadata": {},
   "outputs": [],
   "source": [
    "def remove_duplicates(x):\n",
    "    \"\"\"\n",
    "    takes a list and removes duplicates from that list\n",
    "    ...\n",
    "    Parameters\n",
    "    ----------\n",
    "    x: list\n",
    "        list from which duplicates will be removed\n",
    "    Returns\n",
    "    -------\n",
    "    list\n",
    "        list with duplicates removed\n",
    "    \"\"\"\n",
    "    return list(dict.fromkeys(x))"
   ]
  },
  {
   "cell_type": "markdown",
   "metadata": {},
   "source": [
    "## Pull NHL Betting Line Data\n",
    "We will get our data from covers.com and hockey-reference.com. \n",
    "\n",
    "This first function will first return a list of every date an NHL regular season game was played in the season specified. The list will contain datetime objects which each datetime object representing a date on which at least 1 nhl regular season game was played."
   ]
  },
  {
   "cell_type": "code",
   "execution_count": 5,
   "metadata": {},
   "outputs": [],
   "source": [
    "def get_nhl_dates(season):\n",
    "    \"\"\"\n",
    "    returns a list of all dates NHL games were played in the specified season\n",
    "    ...\n",
    "    Parameters\n",
    "    ----------\n",
    "    season: int\n",
    "        the two years of the season that nhl dates will be retrieved for (ex. 20192020)\n",
    "    Returns\n",
    "    -------\n",
    "    list[dt.datetime]\n",
    "        a list of datetime objects\n",
    "    \"\"\"\n",
    "    # Determine the two years that NHL games were played for that season\n",
    "    year1: int = int(str(season)[:4])\n",
    "    year2: int = int(str(season)[4:])\n",
    "\n",
    "    # Form the url and get response from hockey-reference.com\n",
    "    url: str = f'https://www.hockey-reference.com/leagues/NHL_{year2}_games.html'\n",
    "    resp: type = requests.get(url)\n",
    "\n",
    "    # Find all the days games were played for year1 and year 2.\n",
    "    days1: List[str] = re.findall(f'html\">({year1}.*?)</a></th>', resp.text)\n",
    "    days2: List[str] = re.findall(f'html\">({year2}.*?)</a></th>', resp.text)\n",
    "    days: List[str] = days1 + days2\n",
    "\n",
    "    # Remove duplicates and convert strings to datetime\n",
    "    days = remove_duplicates(days)\n",
    "    dates: List[dt.datetime] = [dt.datetime.strptime(d, '%Y-%m-%d') for d in days]\n",
    "\n",
    "    print(f'Number of days NHL regular season played in {season}: ', len(dates))\n",
    "    return dates"
   ]
  },
  {
   "cell_type": "markdown",
   "metadata": {},
   "source": [
    "Lets get dates for the 2018/2019 season. We can see there were 223 days that NHL games were played during that season."
   ]
  },
  {
   "cell_type": "code",
   "execution_count": 8,
   "metadata": {},
   "outputs": [
    {
     "name": "stdout",
     "output_type": "stream",
     "text": [
      "Number of days NHL regular season played in 20182019:  223\n",
      "[datetime.datetime(2018, 10, 3, 0, 0), datetime.datetime(2018, 10, 4, 0, 0), datetime.datetime(2018, 10, 5, 0, 0), datetime.datetime(2018, 10, 6, 0, 0), datetime.datetime(2018, 10, 7, 0, 0), datetime.datetime(2018, 10, 8, 0, 0), datetime.datetime(2018, 10, 9, 0, 0), datetime.datetime(2018, 10, 10, 0, 0), datetime.datetime(2018, 10, 11, 0, 0), datetime.datetime(2018, 10, 13, 0, 0), datetime.datetime(2018, 10, 14, 0, 0), datetime.datetime(2018, 10, 15, 0, 0), datetime.datetime(2018, 10, 16, 0, 0), datetime.datetime(2018, 10, 17, 0, 0), datetime.datetime(2018, 10, 18, 0, 0), datetime.datetime(2018, 10, 19, 0, 0), datetime.datetime(2018, 10, 20, 0, 0), datetime.datetime(2018, 10, 21, 0, 0), datetime.datetime(2018, 10, 22, 0, 0), datetime.datetime(2018, 10, 23, 0, 0)]\n",
      "223\n"
     ]
    }
   ],
   "source": [
    "dates = get_nhl_dates(20182019)\n",
    "#print a few of the dates\n",
    "print(dates[0:20])\n",
    "print(len(dates))"
   ]
  },
  {
   "cell_type": "markdown",
   "metadata": {},
   "source": [
    "Now we will write a function that will scrape covers.com for the data we need. It will take a date and return a list of dictionaries. Each dictionary item represents 1 game played on that date. The data that will be stored in the dictionaries will be as follows:\n",
    "\n",
    "- date\n",
    "- a numeric game id for that game\n",
    "- home team\n",
    "- away team\n",
    "- home money line in american odds (ex. -110 means if you need to bet 110 to win 100 while +120 means if you bet 100 you win 120)\n",
    "- goals scored by the home team\n",
    "- goals scored by the away team"
   ]
  },
  {
   "cell_type": "code",
   "execution_count": 10,
   "metadata": {},
   "outputs": [],
   "source": [
    "def nhl_games_date(date):\n",
    "    \"\"\"\n",
    "    creates a list of NhlGame dictionaries for all games played on the date provided\n",
    "    ...\n",
    "    Parameters\n",
    "    ----------\n",
    "    date: dt.datetime\n",
    "        datetime object for which we want to\n",
    "    Returns\n",
    "    -------\n",
    "    list[NhlGame]\n",
    "        a list of NhlGame objects\n",
    "    \"\"\"\n",
    "    games = []\n",
    "\n",
    "    # retrieve the covers.com webpage for the date provided\n",
    "    date = date.strftime('%Y-%m-%d')\n",
    "    url = f'https://www.covers.com/sports/nhl/matchups?selectedDate={date}'\n",
    "    resp = requests.get(url)\n",
    "\n",
    "    # parse the page, and retrieve all the game boxes on the page\n",
    "    scraped_games = BeautifulSoup(resp.text, features='html.parser').findAll('div', {'class': 'cmg_matchup_game_box'})\n",
    "\n",
    "    # iterate through all the game boxes and retrieve required information for NhlGame object\n",
    "    for g in scraped_games:\n",
    "        game_id = g['data-event-id'] # game_id\n",
    "        h_abv = g['data-home-team-shortname-search'] # home_team\n",
    "        a_abv = g['data-away-team-shortname-search'] # away_team\n",
    "        h_ml = g['data-game-odd'] # home moneyline\n",
    "\n",
    "        try:\n",
    "            h_score = g.find('div', {'class': 'cmg_matchup_list_score_home'}).get_text(strip=True) # home score\n",
    "            a_score = g.find('div', {'class': 'cmg_matchup_list_score_away'}).get_text(strip=True) # away score\n",
    "        except:  # If a score cannot be found leave as blank\n",
    "            h_score = ''\n",
    "            a_score = ''\n",
    "\n",
    "        game = {'date':date, 'game_id':game_id, 'home_team':h_abv,\n",
    "                'away_team':a_abv, 'home_ml':h_ml, 'home_score':h_score,\n",
    "                'away_score':a_score}\n",
    "\n",
    "        games.append(game)\n",
    "\n",
    "    return games"
   ]
  },
  {
   "cell_type": "markdown",
   "metadata": {},
   "source": [
    "now we will use our \"dates\" list and the above function in order to pull data for all dates in our dates list"
   ]
  },
  {
   "cell_type": "code",
   "execution_count": 13,
   "metadata": {},
   "outputs": [
    {
     "name": "stdout",
     "output_type": "stream",
     "text": [
      "There are 1358in our list\n",
      "\n",
      "[{'date': '2018-10-03', 'game_id': '121530', 'home_team': 'TOR', 'away_team': 'MON', 'home_ml': '-240', 'home_score': '3', 'away_score': '2'}, {'date': '2018-10-03', 'game_id': '121531', 'home_team': 'WAS', 'away_team': 'BOS', 'home_ml': '-115', 'home_score': '7', 'away_score': '0'}, {'date': '2018-10-03', 'game_id': '121532', 'home_team': 'VAN', 'away_team': 'CAL', 'home_ml': '115', 'home_score': '5', 'away_score': '2'}, {'date': '2018-10-03', 'game_id': '121533', 'home_team': 'SJ', 'away_team': 'ANA', 'home_ml': '-185', 'home_score': '2', 'away_score': '5'}, {'date': '2018-10-04', 'game_id': '121536', 'home_team': 'PIT', 'away_team': 'WAS', 'home_ml': '-165', 'home_score': '7', 'away_score': '6'}, {'date': '2018-10-04', 'game_id': '121537', 'home_team': 'CAR', 'away_team': 'NYI', 'home_ml': '-170', 'home_score': '1', 'away_score': '2'}, {'date': '2018-10-04', 'game_id': '121534', 'home_team': 'BUF', 'away_team': 'BOS', 'home_ml': '115', 'home_score': '0', 'away_score': '4'}, {'date': '2018-10-04', 'game_id': '121535', 'home_team': 'NYR', 'away_team': 'NAS', 'home_ml': '155', 'home_score': '2', 'away_score': '3'}, {'date': '2018-10-04', 'game_id': '121538', 'home_team': 'OTT', 'away_team': 'CHI', 'home_ml': '100', 'home_score': '3', 'away_score': '4'}, {'date': '2018-10-04', 'game_id': '121539', 'home_team': 'DET', 'away_team': 'CLB', 'home_ml': '115', 'home_score': '2', 'away_score': '3'}]\n"
     ]
    }
   ],
   "source": [
    "# intialize list to hold our data\n",
    "games = []\n",
    "\n",
    "# run a loop to get data for every date in dates\n",
    "for date in dates:\n",
    "    games += nhl_games_date(date)\n",
    "\n",
    "# check length of games\n",
    "print('There are '+ str(len(games)) + ' games in our list\\n')\n",
    "\n",
    "# print an entry\n",
    "print(games[0])"
   ]
  },
  {
   "cell_type": "markdown",
   "metadata": {},
   "source": [
    "Great! We now have a database of every game in the 2018/2019 season telling us the betting line and score."
   ]
  }
 ],
 "metadata": {
  "interpreter": {
   "hash": "702c16d30426216c846babaa6d6b366fbd94b1312ec71aa5e7fdeb6b891ffae1"
  },
  "kernelspec": {
   "display_name": "Python 3.8.12 ('nhl_analysis')",
   "language": "python",
   "name": "python3"
  },
  "language_info": {
   "codemirror_mode": {
    "name": "ipython",
    "version": 3
   },
   "file_extension": ".py",
   "mimetype": "text/x-python",
   "name": "python",
   "nbconvert_exporter": "python",
   "pygments_lexer": "ipython3",
   "version": "3.8.12"
  },
  "orig_nbformat": 4
 },
 "nbformat": 4,
 "nbformat_minor": 2
}
