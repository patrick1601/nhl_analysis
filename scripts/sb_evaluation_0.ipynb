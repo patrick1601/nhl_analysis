{
 "cells": [
  {
   "cell_type": "markdown",
   "metadata": {},
   "source": [
    "# Sportsbook Evaluation\n",
    "This notebook will pull historical line data and game outcomes from covers.com and create a calibration curve which we can use to evaluate how effective sportsbooks are at setting betting lines for nhl games. We will then use this data to determine the accuracy of our own model that we create.\n",
    "\n",
    "This notebook will accomplish the following:\n",
    "1. Get a list of dates that NHL games were played in the 2018/2019 season\n",
    "2. For every game in the 2018/2019 season we will pull the betting lines and result of the game. We will use this season as it was the last full season played that wasn't shortened due to COVID.\n",
    "3. Determine how accurate sportsbooks were at predicting the winner of games over the whole season"
   ]
  },
  {
   "cell_type": "code",
   "execution_count": 4,
   "metadata": {},
   "outputs": [],
   "source": [
    "from bs4 import BeautifulSoup\n",
    "import datetime as dt\n",
    "import matplotlib.pyplot as plt\n",
    "import os\n",
    "import pickle\n",
    "from sklearn.calibration import calibration_curve\n",
    "from sklearn.metrics import accuracy_score, brier_score_loss\n",
    "import requests\n",
    "import re\n",
    "import sys\n",
    "%matplotlib inline\n"
   ]
  },
  {
   "cell_type": "markdown",
   "metadata": {},
   "source": [
    "## Remove Duplicates\n",
    "This function will come in handy later. All it does is take a list and removes and duplicate values from that list. Example [cat,dog,duck,dog] will return [cat,dog,duck]."
   ]
  },
  {
   "cell_type": "code",
   "execution_count": 3,
   "metadata": {},
   "outputs": [],
   "source": [
    "def remove_duplicates(x):\n",
    "    \"\"\"\n",
    "    takes a list and removes duplicates from that list\n",
    "    ...\n",
    "    Parameters\n",
    "    ----------\n",
    "    x: list\n",
    "        list from which duplicates will be removed\n",
    "    Returns\n",
    "    -------\n",
    "    list\n",
    "        list with duplicates removed\n",
    "    \"\"\"\n",
    "    return list(dict.fromkeys(x))"
   ]
  },
  {
   "cell_type": "markdown",
   "metadata": {},
   "source": [
    "## Pull NHL Betting Line Data\n",
    "We will get our data from covers.com. This function will first return a list of every date an NHL regular season game was played in the season specified."
   ]
  },
  {
   "cell_type": "code",
   "execution_count": 5,
   "metadata": {},
   "outputs": [],
   "source": [
    "def get_nhl_dates(season):\n",
    "    \"\"\"\n",
    "    returns a list of all dates NHL games were played in the specified season\n",
    "    ...\n",
    "    Parameters\n",
    "    ----------\n",
    "    season: int\n",
    "        the two years of the season that nhl dates will be retrieved for (ex. 20192020)\n",
    "    Returns\n",
    "    -------\n",
    "    list[dt.datetime]\n",
    "        a list of datetime objects\n",
    "    \"\"\"\n",
    "    # Determine the two years that NHL games were played for that season\n",
    "    year1: int = int(str(season)[:4])\n",
    "    year2: int = int(str(season)[4:])\n",
    "\n",
    "    # Form the url and get response from hockey-reference.com\n",
    "    url: str = f'https://www.hockey-reference.com/leagues/NHL_{year2}_games.html'\n",
    "    resp: type = requests.get(url)\n",
    "\n",
    "    # Find all the days games were played for year1 and year 2.\n",
    "    days1: List[str] = re.findall(f'html\">({year1}.*?)</a></th>', resp.text)\n",
    "    days2: List[str] = re.findall(f'html\">({year2}.*?)</a></th>', resp.text)\n",
    "    days: List[str] = days1 + days2\n",
    "\n",
    "    # Remove duplicates and convert strings to datetime\n",
    "    days = remove_duplicates(days)\n",
    "    dates: List[dt.datetime] = [dt.datetime.strptime(d, '%Y-%m-%d') for d in days]\n",
    "\n",
    "    print(f'Number of days NHL regular season played in {season}: ', len(dates))\n",
    "    return dates"
   ]
  },
  {
   "cell_type": "markdown",
   "metadata": {},
   "source": [
    "Lets get dates for the 2018/2019 season"
   ]
  },
  {
   "cell_type": "code",
   "execution_count": null,
   "metadata": {},
   "outputs": [],
   "source": [
    "dates = get_nhl_dates(20182019)"
   ]
  }
 ],
 "metadata": {
  "interpreter": {
   "hash": "702c16d30426216c846babaa6d6b366fbd94b1312ec71aa5e7fdeb6b891ffae1"
  },
  "kernelspec": {
   "display_name": "Python 3.8.12 ('nhl_analysis')",
   "language": "python",
   "name": "python3"
  },
  "language_info": {
   "codemirror_mode": {
    "name": "ipython",
    "version": 3
   },
   "file_extension": ".py",
   "mimetype": "text/x-python",
   "name": "python",
   "nbconvert_exporter": "python",
   "pygments_lexer": "ipython3",
   "version": "3.8.12"
  },
  "orig_nbformat": 4
 },
 "nbformat": 4,
 "nbformat_minor": 2
}
