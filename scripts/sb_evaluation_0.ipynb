{
 "cells": [
  {
   "cell_type": "markdown",
   "metadata": {},
   "source": [
    "# Sportsbook Evaluation\n",
    "This notebook will pull historical line data and game outcomes from covers.com and create a calibration curve which we can use to evaluate how effective sportsbooks are at setting betting lines for nhl games. We will then use this data to determine the accuracy of our own model that we create.\n",
    "\n",
    "The code in this notebook will accomplish the following:\n",
    "1. Get a list of dates that NHL games were played in the 2018/2019 season\n",
    "2. For every game in the 2018/2019 season we will pull the betting lines and result of the game. We will use this season as it was the last full season played that wasn't shortened due to COVID.\n",
    "3. Determine how accurate sportsbooks were at predicting the winner of games over the whole season through the use of a calibration curve."
   ]
  },
  {
   "cell_type": "code",
   "execution_count": 1,
   "metadata": {},
   "outputs": [],
   "source": [
    "from bs4 import BeautifulSoup\n",
    "import datetime as dt\n",
    "import matplotlib.pyplot as plt\n",
    "import os\n",
    "import pickle\n",
    "from sklearn.calibration import calibration_curve\n",
    "from sklearn.metrics import accuracy_score, brier_score_loss\n",
    "import requests\n",
    "import re\n",
    "import sys\n",
    "%matplotlib inline\n"
   ]
  },
  {
   "cell_type": "markdown",
   "metadata": {},
   "source": [
    "## Remove Duplicates\n",
    "This function will come in handy later. All it does is take a list and removes any duplicate values from that list. Example [cat,dog,duck,dog] will return [cat,dog,duck]."
   ]
  },
  {
   "cell_type": "code",
   "execution_count": 2,
   "metadata": {},
   "outputs": [],
   "source": [
    "def remove_duplicates(x):\n",
    "    \"\"\"\n",
    "    takes a list and removes duplicates from that list\n",
    "    ...\n",
    "    Parameters\n",
    "    ----------\n",
    "    x: list\n",
    "        list from which duplicates will be removed\n",
    "    Returns\n",
    "    -------\n",
    "    list\n",
    "        list with duplicates removed\n",
    "    \"\"\"\n",
    "    return list(dict.fromkeys(x))"
   ]
  },
  {
   "cell_type": "markdown",
   "metadata": {},
   "source": [
    "## Pull NHL Betting Line Data\n",
    "We will get our data from covers.com and hockey-reference.com. \n",
    "\n",
    "First we want a list of every date an NHL regular season game was played in the season specified. The list will contain datetime objects which each datetime object representing a date on which at least 1 nhl regular season game was played.\n",
    "\n",
    "We will use the requests library in order to get this data. The below function will scrape hockey-reference.com for this data and return a list of dates for the specified season."
   ]
  },
  {
   "cell_type": "code",
   "execution_count": 4,
   "metadata": {},
   "outputs": [],
   "source": [
    "def get_nhl_dates(season):\n",
    "    \"\"\"\n",
    "    returns a list of all dates NHL games were played in the specified season\n",
    "    ...\n",
    "    Parameters\n",
    "    ----------\n",
    "    season: int\n",
    "        the two years of the season that nhl dates will be retrieved for (ex. 20192020)\n",
    "    Returns\n",
    "    -------\n",
    "    list[dt.datetime]\n",
    "        a list of datetime objects\n",
    "    \"\"\"\n",
    "    # Determine the two years that NHL games were played for that season\n",
    "    year1 = int(str(season)[:4])\n",
    "    year2 = int(str(season)[4:])\n",
    "\n",
    "    # Form the url and get response from hockey-reference.com\n",
    "    url = f'https://www.hockey-reference.com/leagues/NHL_{year2}_games.html'\n",
    "    resp = requests.get(url)\n",
    "\n",
    "    # Find all the days games were played for year1 and year 2.\n",
    "    days1 = re.findall(f'html\">({year1}.*?)</a></th>', resp.text)\n",
    "    days2 = re.findall(f'html\">({year2}.*?)</a></th>', resp.text)\n",
    "    days = days1 + days2\n",
    "\n",
    "    # Remove duplicates and convert strings to datetime\n",
    "    days = remove_duplicates(days)\n",
    "    dates = [dt.datetime.strptime(d, '%Y-%m-%d') for d in days]\n",
    "\n",
    "    print(f'Number of days NHL regular season played in {season}: ', len(dates))\n",
    "    return dates"
   ]
  },
  {
   "cell_type": "markdown",
   "metadata": {},
   "source": [
    "Lets run the function for the 2018/2019 season"
   ]
  },
  {
   "cell_type": "code",
   "execution_count": 5,
   "metadata": {},
   "outputs": [
    {
     "name": "stdout",
     "output_type": "stream",
     "text": [
      "Number of days NHL regular season played in 20182019:  223\n",
      "[datetime.datetime(2018, 10, 3, 0, 0), datetime.datetime(2018, 10, 4, 0, 0), datetime.datetime(2018, 10, 5, 0, 0), datetime.datetime(2018, 10, 6, 0, 0), datetime.datetime(2018, 10, 7, 0, 0), datetime.datetime(2018, 10, 8, 0, 0), datetime.datetime(2018, 10, 9, 0, 0), datetime.datetime(2018, 10, 10, 0, 0), datetime.datetime(2018, 10, 11, 0, 0), datetime.datetime(2018, 10, 13, 0, 0)]\n"
     ]
    }
   ],
   "source": [
    "#%% get dates that nhl games were played on in the 2018/2019 season\n",
    "dates = get_nhl_dates(20182019)\n",
    "print(dates[:10]) #show first 10 dates"
   ]
  },
  {
   "cell_type": "markdown",
   "metadata": {},
   "source": [
    "Now we will write a function that will scrape covers.com for the sportsbook data we need. It will take a date and return a list of dictionaries. Each dictionary item represents 1 game played on that date. The data that will be stored in the dictionaries will be as follows:\n",
    "\n",
    "- date\n",
    "- a numeric game id for that game\n",
    "- home team\n",
    "- away team\n",
    "- home money line in american odds (ex. -110 means if you need to bet 110 to win 100 while +120 means if you bet 100 you win 120)\n",
    "- goals scored by the home team\n",
    "- goals scored by the away team"
   ]
  },
  {
   "cell_type": "code",
   "execution_count": 6,
   "metadata": {},
   "outputs": [],
   "source": [
    "def nhl_games_date(date):\n",
    "    \"\"\"\n",
    "    creates a list of NhlGame dictionaries for all games played on the date provided\n",
    "    ...\n",
    "    Parameters\n",
    "    ----------\n",
    "    date: dt.datetime\n",
    "        datetime object for which we want to\n",
    "    Returns\n",
    "    -------\n",
    "    list[NhlGame]\n",
    "        a list of NhlGame objects\n",
    "    \"\"\"\n",
    "    games = []\n",
    "\n",
    "    # retrieve the covers.com webpage for the date provided\n",
    "    date = date.strftime('%Y-%m-%d')\n",
    "    url = f'https://www.covers.com/sports/nhl/matchups?selectedDate={date}'\n",
    "    resp = requests.get(url)\n",
    "\n",
    "    # parse the page, and retrieve all the game boxes on the page\n",
    "    scraped_games = BeautifulSoup(resp.text, features='html.parser').findAll('div', {'class': 'cmg_matchup_game_box'})\n",
    "\n",
    "    # iterate through all the game boxes and retrieve required information for NhlGame object\n",
    "    for g in scraped_games:\n",
    "        game_id = g['data-event-id'] # game_id\n",
    "        h_abv = g['data-home-team-shortname-search'] # home_team\n",
    "        a_abv = g['data-away-team-shortname-search'] # away_team\n",
    "        h_ml = g['data-game-odd'] # home moneyline\n",
    "\n",
    "        try:\n",
    "            h_score = g.find('div', {'class': 'cmg_matchup_list_score_home'}).get_text(strip=True) # home score\n",
    "            a_score = g.find('div', {'class': 'cmg_matchup_list_score_away'}).get_text(strip=True) # away score\n",
    "        except:  # If a score cannot be found leave as blank\n",
    "            h_score = ''\n",
    "            a_score = ''\n",
    "\n",
    "        game = {'date':date, 'game_id':game_id, 'home_team':h_abv,\n",
    "                'away_team':a_abv, 'home_ml':h_ml, 'home_score':h_score,\n",
    "                'away_score':a_score}\n",
    "\n",
    "        games.append(game)\n",
    "\n",
    "    return games"
   ]
  },
  {
   "cell_type": "markdown",
   "metadata": {},
   "source": [
    "now we will use our \"dates\" list and the above function in order to pull data for all dates in our dates list"
   ]
  },
  {
   "cell_type": "code",
   "execution_count": 7,
   "metadata": {},
   "outputs": [
    {
     "name": "stdout",
     "output_type": "stream",
     "text": [
      "There are 1358 games in our list\n",
      "\n",
      "{'date': '2018-10-03', 'game_id': '121530', 'home_team': 'TOR', 'away_team': 'MON', 'home_ml': '-240', 'home_score': '3', 'away_score': '2'}\n"
     ]
    }
   ],
   "source": [
    "# intialize list to hold our data\n",
    "games = []\n",
    "\n",
    "# run a loop to get data for every date in dates\n",
    "for date in dates:\n",
    "    games += nhl_games_date(date)\n",
    "\n",
    "# check length of games\n",
    "print('There are '+ str(len(games)) + ' games in our list\\n')\n",
    "\n",
    "# print an entry\n",
    "print(games[0])"
   ]
  },
  {
   "cell_type": "markdown",
   "metadata": {},
   "source": [
    "Great! We now have a database of every game in the 2018/2019 season telling us the betting line and score.\n",
    "\n",
    "## Betting Lines and Expected Value\n",
    "To understand the calibration curve we are about to create we first need to understand some betting principles.\n",
    "\n",
    "### Coin Flipping Odds\n",
    "Lets say a friend offers you a bet. He flips a coin, if it lands on heads you pay him 10 dollars if it lands on tails he will pay you 10 dollars (even odds). Should you take this bet? You will not be surprised to learn that the answer to this is it does not matter. Since there is an even chance of the coin landing on heads or tails and you friend is offering you even odds this is a 0 expected value (EV) bet. You will lose some bets, you will win some bets but over many bets you will come out even.\n",
    "\n",
    "Scenario 2. Lets say this time your friend says if it lands on heads I will give you 15 dollars and if it lands on tails you only have to give me 10. You are betting 10 to potentially win 15 which would be equivalent to a +150 moneyline bet. Should you take this bet? The obvious answer is yes. Since there is a 50% chance of the coin landing on heads but your friend is offering you better than 50% odds this is a positive EV bet. You will lose some bets you will win some bets but over many bets you will make money.\n",
    "\n",
    "Scenario 3. This time your friend says if it lands on heads I will give you 10 dollars if it lands on tails you owe me 15. You are betting 15 to potentially win 10 which would be equivalent to a -150 moenyline bet. Should you take this bet? The obvious answer is no. Since there is a 50% chance of the coin landing on heads but your friend is offering you worse than 50% odds this is a negative EV bet. You will lose some bets you will win some bets but over many bets you will lose money\n",
    "\n",
    "### Sports Betting\n",
    "So how does this apply to sports betting? Sports betting is betting on a coin flip however the coin is not evenly weighted. Your job as a bettor is to determine the true odds and which side is the positive EV bet.\n",
    "\n",
    "Imagine the Flames are playing the Oilers tonight. The sportsbook is offering the Flames at -200 and the Oilers at +190 which side do you bet? The process to determine this is as follows:\n",
    "\n",
    "1. Convert the money line odds to percentages\n",
    "    -200 odds is equivalent to the sportsbook saying they think the Flames have a 66% chance of winning\n",
    "    +190 odds is equivalent to the sportsbook saying they think the Oilers have a 33% chance of winning\n",
    "2. Run your own analysis to determine what percent chance you think each team has of winning. Typically you would use some sort of model to determine this. We are going to build a machine learning model that will calculate these percentages for us. Lets say you run your model and come up with the following\n",
    "    Flames will win 60% of the time\n",
    "    Oilers will win 40% of the time\n",
    "3. Now which side do you bet? \n",
    "    - Based on the odds the sportsbook thinks the Flames win 66% you think they win only 60% therefore betting the Flames would be negative EV.\n",
    "    - Also based on the odds the sportsbook thinks the Oilers will win 33% of the time however you think they will actually win 40% of the time therefore betting the Oilers is positive EV.\n",
    "\n",
    "Even though the Flames are more likely to win the game betting them is negative EV and you would lose money over time. Betting the Oilers is a positive EV bet even though you will lose this bet more often than not.\n",
    "\n",
    "The way sportsbooks make money is that they try to set the betting line so both sides of the bet are negative EV. This is due to a comission they bake into the line. If Sportsbook determines that a teams true odds are -200 they will actually offer the bet at say -220 this way they can make both sides of the bet negative EV ensuring they always make a profit.\n",
    "\n",
    "The goal of any sports betting model is to identify bets where the sportsbook odds do not reflect a teams true odds of winning.\n",
    "\n",
    "## Calibration Curve\n",
    "Now that we have some betting theory out of the way lets start creating a calibration curve. This first function will take our game database list and calculate the sportsbooks accuracy in predicting games. If the predicted favourite actually ends up winning the game then that is counted as a correct prediction. If the underdog wins that is an incorrect prediction.\n",
    "\n",
    "The function will take the list of games we have and return 4 things for us:\n",
    "1. Accuracy - will be a single number telling us what percentage of predicted favourites won the game\n",
    "2. Outcome - a list of booleans. True if the home team won the game, False if the away team won\n",
    "3. Predictions - a list of booleans. True if the sportsbook had the home team favoured, False if the away team was favoured\n",
    "4. Probabilities - the probability of the home team winning based on the moneyline odds. (ex. -200 = 66%)"
   ]
  },
  {
   "cell_type": "code",
   "execution_count": 8,
   "metadata": {},
   "outputs": [],
   "source": [
    "def sportsbook_accuracy(game_data):\n",
    "    \"\"\"\n",
    "    calculates the accuracy score of the sportsbooks for the provided games\n",
    "    ...\n",
    "    Parameters\n",
    "    ----------\n",
    "    game_data: List[Dict]\n",
    "        list of NhlGame objects for which we want to calculate the accuracy score for\n",
    "    Returns\n",
    "    -------\n",
    "    accuracy: float\n",
    "        the accuracy of the sportsbooks predictions\n",
    "    outcomes: List[Boolean]\n",
    "        True if the home team wins\n",
    "    predictions: List[Boolean]\n",
    "        True if the sportsbook had the home team favoured\n",
    "    probabilities: List[float]\n",
    "        the implied probability of the home team winning based on the moneyline odds\n",
    "    \"\"\"\n",
    "    outcomes = []  # The actual outcome of the game. True if the home team wins\n",
    "    predictions = []  # The sportsbook's \"prediction\". True if the home team was favoured.\n",
    "    probabilities = []  # The implied probabilities determined from the moneyline odds\n",
    "\n",
    "    for d in game_data:\n",
    "        moneyline = int(d['home_ml'])\n",
    "        home_score = int(d['home_score'])\n",
    "        away_score = int(d['away_score'])\n",
    "\n",
    "        if moneyline == 100:\n",
    "            # We will exclude tossups for the calibration curve\n",
    "            continue\n",
    "\n",
    "        # Convert moneyline odds to their implied probabilities\n",
    "        if moneyline < 0:\n",
    "            probabilities.append(moneyline / (moneyline - 100))\n",
    "        elif moneyline > 100:\n",
    "            probabilities.append(100 / (moneyline + 100))\n",
    "\n",
    "        outcomes.append(home_score > away_score)\n",
    "        predictions.append(moneyline < 0)\n",
    "\n",
    "    accuracy = 100 * accuracy_score(outcomes, predictions)\n",
    "\n",
    "    return accuracy, outcomes, predictions, probabilities"
   ]
  },
  {
   "cell_type": "code",
   "execution_count": 21,
   "metadata": {},
   "outputs": [
    {
     "name": "stdout",
     "output_type": "stream",
     "text": [
      "Accuracy\n",
      "Sportsbooks accuracy is 57.564296520423596\n",
      "Outcomes\n",
      "[True, True, True, False, True, False, False, False, False, True]\n",
      "Predictions\n",
      "[True, True, False, True, True, True, False, False, False, True]\n",
      "Probabilities\n",
      "[0.7058823529411765, 0.5348837209302325, 0.46511627906976744, 0.6491228070175439, 0.6226415094339622, 0.6296296296296297, 0.46511627906976744, 0.39215686274509803, 0.46511627906976744, 0.6428571428571429]\n"
     ]
    }
   ],
   "source": [
    "accuracy, outcomes, predictions, probabilities = sportsbook_accuracy(games)\n",
    "print('Accuracy')\n",
    "print('Sportsbooks accuracy is ' + str(accuracy))\n",
    "print('Outcomes')\n",
    "print(outcomes[:10])\n",
    "print('Predictions')\n",
    "print(predictions[:10])\n",
    "print('Probabilities')\n",
    "print(probabilities[:10])\n",
    "\n",
    "#%% pickle results\n",
    "with open('/Users/patrickpetanca/projects/nhl_analysis/data/baseline.pkl', 'wb') as f:\n",
    "    pickle.dump((outcomes, predictions, probabilities), f)"
   ]
  },
  {
   "cell_type": "markdown",
   "metadata": {},
   "source": [
    "We can see from the above that the sportbook correctly predicted the winner of the game 57.56% of the time. We can also compare our outcome and predictions list. If the corresponding elements in the two lists are both True or Both False the sportsbook correctly predicted the winner. If they are different they were incorrect.\n",
    "\n",
    "Now we have all the data we need to create our calibration curve."
   ]
  },
  {
   "cell_type": "code",
   "execution_count": 19,
   "metadata": {},
   "outputs": [],
   "source": [
    "def cal_curve(data, bins):\n",
    "    \"\"\"\n",
    "    creates a calibration curve. X axis is the implied probability while the y axis is the percentage\n",
    "    of time that prediction was correct\n",
    "    ...\n",
    "    Parameters\n",
    "    ----------\n",
    "    data: List[Tuple[List[Boolean], List[Boolean], List[Float], str]]\n",
    "        the data that will be used to create the calibration curve. (Outcomes, Predictions, Probabilities, Name)\n",
    "    Returns\n",
    "    -------\n",
    "    accuracy: float\n",
    "        the accuracy of the sportsbooks predictions\n",
    "    outcomes: List[Boolean]\n",
    "        True if the home team wins\n",
    "    predictions: List[Boolean]\n",
    "        True if the sportsbook had the home team favoured\n",
    "    probabilities: List[float]\n",
    "        the implied probability of the home team winning based on the moneyline odds\n",
    "    \"\"\"\n",
    "\n",
    "    fig = plt.figure(1, figsize=(12, 8))\n",
    "    ax1 = plt.subplot2grid((3, 1), (0, 0), rowspan=2)\n",
    "    ax2 = plt.subplot2grid((3, 1), (2, 0))\n",
    "\n",
    "    ax1.plot([0, 1], [0, 1], \"k:\", label=\"Perfectly Calibrated\")\n",
    "\n",
    "    for y_test, y_pred, y_proba, name in data:\n",
    "        brier = brier_score_loss(y_test, y_proba)\n",
    "        print(\"{}\\tAccuracy:{:.4f}\\t Brier Loss: {:.4f}\".format(\n",
    "            name, accuracy_score(y_test, y_pred), brier))\n",
    "        fraction_of_positives, mean_predicted_value = calibration_curve(y_test, y_proba, n_bins=bins)\n",
    "\n",
    "        ax1.plot(mean_predicted_value, fraction_of_positives, label=\"%s (%1.4f)\" % (name, brier))\n",
    "        ax2.hist(y_proba, range=(0, 1), bins=bins, label=name, histtype=\"step\", lw=2)\n",
    "\n",
    "    ax1.set_ylabel(\"Fraction of positives\")\n",
    "    ax1.set_ylim([-0.05, 1.05])\n",
    "    ax1.legend(loc=\"lower right\")\n",
    "    ax1.set_title('Calibration plots  (reliability curve)')\n",
    "\n",
    "    ax2.set_xlabel(\"Mean predicted value\")\n",
    "    ax2.set_ylabel(\"Count\")\n",
    "    ax2.legend(loc=\"lower right\")\n",
    "\n",
    "    plt.tight_layout()\n",
    "    my_path = '/Users/patrickpetanca/projects/nhl_analysis'\n",
    "    fig.savefig(my_path + '/results/sb_evaluation.png')"
   ]
  },
  {
   "cell_type": "code",
   "execution_count": 20,
   "metadata": {},
   "outputs": [
    {
     "name": "stdout",
     "output_type": "stream",
     "text": [
      "Sportsbook\tAccuracy:0.5756\t Brier Loss: 0.2427\n"
     ]
    },
    {
     "data": {
      "image/png": "[encoded data removed]",
      "text/plain": [
       "<Figure size 864x576 with 2 Axes>"
      ]
     },
     "metadata": {
      "needs_background": "light"
     },
     "output_type": "display_data"
    }
   ],
   "source": [
    "# code to create calibration curve\n",
    "data = [(outcomes, predictions, probabilities, 'Sportsbook')]\n",
    "cal_curve(data,15)"
   ]
  },
  {
   "cell_type": "markdown",
   "metadata": {},
   "source": [
    "The x-axis on the above chart tells us what the sportsbook predicted probability of the home team winning a game was. While the y-axis tells us what percentage of time the home team actulaly ended up winning. For a perfectly calibrated model these two values will be equal (If the model predicts a team will win 60% of the time they should actually win approximately 60% of the team). If they do not the model is not very useful.\n",
    "\n",
    "The histogram below the charts just shows our sample size for each probability bucket.\n",
    "\n",
    "We can see that sportsbooks are actually quite good at predicting outcomes of games. The blue line follows the \"Perfectly Calibrated\" line quite closely. You can see that the blue line is shifted slightly below a perfectly calibrated model this is due to the comission (or juice) that the sportsbooks build into their lines.\n",
    "\n",
    "The predictions weren't very good for large underdogs and large favourites. But this is likely just due to a small sample size and if we had more data it would likely be closer to the \"Perfectly Calibrated\" line.\n",
    "\n",
    "### Brier Score\n",
    "We can use the Brier score to quantify the effectiveness of a Sportsbooks predictions. The Brier score is a model evaluation  metric used to how well your model is at predicted probabilities of events happening. All a Brier score does is measure the distance between the blue line above and the \"Perfectly Calibrated\" line. The Brier score takes a value between 0 and 1 with zero being a perfect model and 1 being a terrible model. Note that a model with a perfect Brier score of 0 doesn't mean that it correctly predicts the outcome of every game rather it correctly predicts the probability of a team winning over time.\n",
    "\n",
    "We are going to build our own model and compare it's Brier score to the 0.2427 value calculated above to determine if we can buld a model that beats the books."
   ]
  }
 ],
 "metadata": {
  "interpreter": {
   "hash": "702c16d30426216c846babaa6d6b366fbd94b1312ec71aa5e7fdeb6b891ffae1"
  },
  "kernelspec": {
   "display_name": "Python 3.8.12 ('nhl_analysis')",
   "language": "python",
   "name": "python3"
  },
  "language_info": {
   "codemirror_mode": {
    "name": "ipython",
    "version": 3
   },
   "file_extension": ".py",
   "mimetype": "text/x-python",
   "name": "python",
   "nbconvert_exporter": "python",
   "pygments_lexer": "ipython3",
   "version": "3.8.12"
  },
  "orig_nbformat": 4
 },
 "nbformat": 4,
 "nbformat_minor": 2
}
